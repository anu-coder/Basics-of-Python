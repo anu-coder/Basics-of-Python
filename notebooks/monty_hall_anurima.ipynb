{
 "cells": [
  {
   "cell_type": "code",
   "execution_count": 70,
   "metadata": {},
   "outputs": [],
   "source": [
    "import random as rd\n",
    "\n",
    "d={1:\"car\", 2: \"goat\", 3:\"goat\"}  # for a particular case\n",
    "doors = list(d.keys())\n",
    "\n",
    "## \n",
    "def montyhall(switch, n=1000):\n",
    "    win = 0\n",
    "    for play in range(n):\n",
    "        player_choice = rd.choice(doors)\n",
    "        rem_doors = [d for d in doors if d not in [player_choice, 1]]\n",
    "        reveal = rd.choice(rem_doors)\n",
    "        if switch:\n",
    "            if player_choice != 1:\n",
    "                win += 1\n",
    "        else:\n",
    "            if player_choice == 1:\n",
    "                win += 1\n",
    "\n",
    "    print('The probability of winning is', win/n)\n",
    "\n"
   ]
  },
  {
   "cell_type": "code",
   "execution_count": 74,
   "metadata": {},
   "outputs": [
    {
     "name": "stdout",
     "output_type": "stream",
     "text": [
      "The probability of winning is 0.668\n"
     ]
    }
   ],
   "source": [
    "montyhall(switch=True, n=10000)"
   ]
  }
 ],
 "metadata": {
  "kernelspec": {
   "display_name": "Python 3",
   "language": "python",
   "name": "python3"
  },
  "language_info": {
   "codemirror_mode": {
    "name": "ipython",
    "version": 3
   },
   "file_extension": ".py",
   "mimetype": "text/x-python",
   "name": "python",
   "nbconvert_exporter": "python",
   "pygments_lexer": "ipython3",
   "version": "3.7.4"
  }
 },
 "nbformat": 4,
 "nbformat_minor": 2
}
