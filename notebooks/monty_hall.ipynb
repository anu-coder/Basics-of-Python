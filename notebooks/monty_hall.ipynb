{
 "metadata": {
  "language_info": {
   "codemirror_mode": {
    "name": "ipython",
    "version": 3
   },
   "file_extension": ".py",
   "mimetype": "text/x-python",
   "name": "python",
   "nbconvert_exporter": "python",
   "pygments_lexer": "ipython3",
   "version": "3.8.5"
  },
  "orig_nbformat": 2,
  "kernelspec": {
   "name": "python3",
   "display_name": "Python 3.8.5 64-bit ('mec': conda)",
   "metadata": {
    "interpreter": {
     "hash": "83013e1bc8365d3806dc31cbf1d96baaacc15f7a34afb5860b323bda0b9670f0"
    }
   }
  }
 },
 "nbformat": 4,
 "nbformat_minor": 2,
 "cells": [
  {
   "cell_type": "code",
   "execution_count": 2,
   "metadata": {},
   "outputs": [
    {
     "output_type": "error",
     "ename": "NameError",
     "evalue": "name 'win' is not defined",
     "traceback": [
      "\u001b[1;31m---------------------------------------------------------------------------\u001b[0m",
      "\u001b[1;31mNameError\u001b[0m                                 Traceback (most recent call last)",
      "\u001b[1;32m<ipython-input-2-153695bebdbe>\u001b[0m in \u001b[0;36m<module>\u001b[1;34m\u001b[0m\n\u001b[0;32m     18\u001b[0m                 \u001b[0mwin\u001b[0m \u001b[1;33m+=\u001b[0m \u001b[1;36m1\u001b[0m\u001b[1;33m\u001b[0m\u001b[1;33m\u001b[0m\u001b[0m\n\u001b[0;32m     19\u001b[0m \u001b[1;33m\u001b[0m\u001b[0m\n\u001b[1;32m---> 20\u001b[1;33m \u001b[0mprint\u001b[0m\u001b[1;33m(\u001b[0m\u001b[1;34m'The probability of winning is'\u001b[0m\u001b[1;33m,\u001b[0m \u001b[0mwin\u001b[0m\u001b[1;33m/\u001b[0m\u001b[0mn\u001b[0m\u001b[1;33m)\u001b[0m\u001b[1;33m\u001b[0m\u001b[1;33m\u001b[0m\u001b[0m\n\u001b[0m\u001b[0;32m     21\u001b[0m \u001b[1;33m\u001b[0m\u001b[0m\n",
      "\u001b[1;31mNameError\u001b[0m: name 'win' is not defined"
     ]
    }
   ],
   "source": [
    "import random as rd\n",
    "\n",
    "d={1:\"car\", 2: \"goat\", 3:\"goat\"}  # for a particular case\n",
    "doors = list(d.keys())\n",
    "\n",
    "## \n",
    "def montyhall(switch, n=1000):\n",
    "    win = 0\n",
    "    for play in range(n):\n",
    "        player_choice = rd.choice(doors)\n",
    "        rem_doors = [d for d in doors if d not in [player_choice, 1]]\n",
    "        reveal = rd.choice(rem_doors)\n",
    "        if switch:\n",
    "            if player_choice != 1:\n",
    "                win += 1\n",
    "        else:\n",
    "            if player_choice == 1:\n",
    "                win += 1\n",
    "\n",
    "print('The probability of winning is', win/n)\n",
    "\n"
   ]
  }
 ]
}