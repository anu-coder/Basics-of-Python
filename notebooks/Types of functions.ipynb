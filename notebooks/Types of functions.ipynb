{
 "cells": [
  {
   "cell_type": "markdown",
   "metadata": {},
   "source": [
    "### The various kind of functions:"
   ]
  },
  {
   "cell_type": "code",
   "execution_count": null,
   "metadata": {},
   "outputs": [],
   "source": [
    "# all(iterable)\n",
    "# iterable functions that retuens true is all the values are true in list, tuple, dictionary, set\n"
   ]
  },
  {
   "cell_type": "code",
   "execution_count": 4,
   "metadata": {},
   "outputs": [
    {
     "name": "stdout",
     "output_type": "stream",
     "text": [
      "True\n",
      "<class 'set'>\n",
      "True\n"
     ]
    }
   ],
   "source": [
    "#example:\n",
    "l=[1,2,3,4]\n",
    "print(all(l))\n",
    "l1={1,2,3,4}\n",
    "print(type(l1))\n",
    "print(all(l1))\n"
   ]
  },
  {
   "cell_type": "markdown",
   "metadata": {},
   "source": [
    "### filter function : syntax: "
   ]
  },
  {
   "cell_type": "code",
   "execution_count": 5,
   "metadata": {},
   "outputs": [
    {
     "name": "stdout",
     "output_type": "stream",
     "text": [
      "filter(function or None, iterable) --> filter object\n",
      "\n",
      "Return an iterator yielding those items of iterable for which function(item)\n",
      "is true. If function is None, return the items that are true.\n"
     ]
    }
   ],
   "source": [
    "print(filter.__doc__)"
   ]
  },
  {
   "cell_type": "code",
   "execution_count": 16,
   "metadata": {},
   "outputs": [
    {
     "name": "stdout",
     "output_type": "stream",
     "text": [
      "[1, 2, 3, 4, 5, 6, 7, 8, 9]\n",
      "[-10, -8, -6, -4, -2, 0, 2, 4, 6, 8]\n",
      "[-10, -8, -6, -4, -2, 0, 2, 4, 6, 8]\n"
     ]
    }
   ],
   "source": [
    "l=range(-10,10)\n",
    "print(list(filter(lambda x: True if x>0 else False,l)))  # filtering only positive numbers\n",
    "print(list(filter(lambda y: True if divmod(y,2)[1]==0 else False, l)))  # filtering even numbers\n",
    "print(list(filter(lambda y: True if y%2==0 else False, l)))  # filtering even numbers without using divmod "
   ]
  },
  {
   "cell_type": "code",
   "execution_count": null,
   "metadata": {},
   "outputs": [],
   "source": []
  }
 ],
 "metadata": {
  "kernelspec": {
   "display_name": "Python 3",
   "language": "python",
   "name": "python3"
  },
  "language_info": {
   "codemirror_mode": {
    "name": "ipython",
    "version": 3
   },
   "file_extension": ".py",
   "mimetype": "text/x-python",
   "name": "python",
   "nbconvert_exporter": "python",
   "pygments_lexer": "ipython3",
   "version": "3.7.4"
  }
 },
 "nbformat": 4,
 "nbformat_minor": 2
}
