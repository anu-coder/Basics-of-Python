{
 "cells": [
  {
   "cell_type": "code",
   "execution_count": 28,
   "metadata": {},
   "outputs": [
    {
     "name": "stdout",
     "output_type": "stream",
     "text": [
      "{'12': 1, '23': 4}\n",
      "{'a': 2, 'b': 3}\n"
     ]
    }
   ],
   "source": [
    "import re\n",
    "\n",
    "class RegexDict(dict):\n",
    "    \n",
    "    def query(self, pat):\n",
    "        return {k: dict.__getitem__(self, k) for k in self if re.search(pat, k)}\n",
    "\n",
    "d = RegexDict({'12': 1, 'a': 2, 'b': 3, '23': 4})\n",
    "\n",
    "print(d.query(r'\\d'))\n",
    "print(d.query('[a-zA-Z]+'))"
   ]
  },
  {
   "cell_type": "code",
   "execution_count": 56,
   "metadata": {},
   "outputs": [],
   "source": [
    "import matplotlib.pyplot as plt"
   ]
  },
  {
   "cell_type": "code",
   "execution_count": 123,
   "metadata": {},
   "outputs": [],
   "source": [
    "class Turtle:\n",
    "\n",
    "    def __init__(self, color, x=0, y=0, face='T'):\n",
    "        self.color = color\n",
    "        self.x = x\n",
    "        self.y = y\n",
    "        self.face = face\n",
    "        self.history = [(0, 0)]\n",
    "        \n",
    "        \n",
    "    def move(self, cmd):\n",
    "        if 'FD' in cmd:\n",
    "            units = int(cmd.replace('FD', ''))\n",
    "            if self.face == 'T':\n",
    "                self.y += units\n",
    "            if self.face == 'D':\n",
    "                self.y -= units\n",
    "            if self.face == 'R':\n",
    "                self.x += units\n",
    "            if self.face == 'L':\n",
    "                self.x -= units\n",
    "            \n",
    "        if cmd == 'RT':\n",
    "            if self.face == 'T':\n",
    "                self.face = 'R'\n",
    "            elif self.face == 'R':\n",
    "                self.face = 'D'\n",
    "            elif self.face == 'D':\n",
    "                self.face = 'L'\n",
    "            elif self.face == 'L':\n",
    "                self.face = 'T'\n",
    "                \n",
    "        \n",
    "        self.history.append((self.x, self.y))\n",
    "                \n",
    "    def draw(self):\n",
    "        xpos, ypos = list(zip(*self.history))\n",
    "        plt.plot(xpos, ypos, '-')\n",
    "        plt.scatter(xpos[-1], ypos[-1], c=self.color)"
   ]
  },
  {
   "cell_type": "code",
   "execution_count": 127,
   "metadata": {},
   "outputs": [],
   "source": [
    "trtl = Turtle(color='green')"
   ]
  },
  {
   "cell_type": "code",
   "execution_count": 128,
   "metadata": {},
   "outputs": [],
   "source": [
    "units = 100\n",
    "step = 10\n",
    "times = 10\n",
    "for i in range(times):\n",
    "    trtl.move(f'FD{units}')\n",
    "    trtl.move('RT')\n",
    "    trtl.move(f'FD{units}')\n",
    "    \n",
    "    units -= step"
   ]
  },
  {
   "cell_type": "code",
   "execution_count": 129,
   "metadata": {},
   "outputs": [
    {
     "data": {
      "image/png": "[encoded data removed]",
      "text/plain": [
       "<Figure size 432x288 with 1 Axes>"
      ]
     },
     "metadata": {
      "needs_background": "light"
     },
     "output_type": "display_data"
    }
   ],
   "source": [
    "trtl.draw()"
   ]
  }
 ],
 "metadata": {
  "kernelspec": {
   "display_name": "Python 3",
   "language": "python",
   "name": "python3"
  },
  "language_info": {
   "codemirror_mode": {
    "name": "ipython",
    "version": 3
   },
   "file_extension": ".py",
   "mimetype": "text/x-python",
   "name": "python",
   "nbconvert_exporter": "python",
   "pygments_lexer": "ipython3",
   "version": "3.8.5"
  }
 },
 "nbformat": 4,
 "nbformat_minor": 4
}
