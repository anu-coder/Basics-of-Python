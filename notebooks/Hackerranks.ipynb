{
 "cells": [
  {
   "cell_type": "code",
   "execution_count": 14,
   "metadata": {},
   "outputs": [
    {
     "name": "stdout",
     "output_type": "stream",
     "text": [
      "5\n"
     ]
    }
   ],
   "source": [
    "def runners_up(l, score):\n",
    "    no_dub = set(l)\n",
    "    f = sorted(no_dub, reverse = True)\n",
    "    if f[1] == score:\n",
    "        return score\n",
    "    else:\n",
    "        return 0 \n",
    "\n",
    "\n",
    "l= [2,3,4,12,1,5]\n",
    "s = 5\n",
    "print(runners_up(l, s))"
   ]
  },
  {
   "cell_type": "code",
   "execution_count": 13,
   "metadata": {},
   "outputs": [
    {
     "data": {
      "text/plain": [
       "[1, 2, 3, 4, 5, 12]"
      ]
     },
     "execution_count": 13,
     "metadata": {},
     "output_type": "execute_result"
    }
   ],
   "source": [
    "l= [2,3,4,12,1,5,5]\n",
    "f = set(l)\n",
    "s = sorted(f)\n",
    "s"
   ]
  },
  {
   "cell_type": "code",
   "execution_count": 72,
   "metadata": {},
   "outputs": [
    {
     "name": "stdout",
     "output_type": "stream",
     "text": [
      "5\n",
      "Harry\n",
      "57.43\n",
      "Anurima\n",
      "23.3\n",
      "c\n",
      "12.33\n",
      "d\n",
      "12.33\n",
      "Ovi\n",
      "57\n"
     ]
    }
   ],
   "source": [
    "if __name__ == '__main__':\n",
    "    name_score = []\n",
    "    for _ in range(int(input())):\n",
    "        name = input()\n",
    "        score = float(input())\n",
    "        name_score.append([name, score])"
   ]
  },
  {
   "cell_type": "code",
   "execution_count": 73,
   "metadata": {},
   "outputs": [
    {
     "data": {
      "text/plain": [
       "[['Harry', 57.43],\n",
       " ['Anurima', 23.3],\n",
       " ['c', 12.33],\n",
       " ['d', 12.33],\n",
       " ['Ovi', 57.0]]"
      ]
     },
     "execution_count": 73,
     "metadata": {},
     "output_type": "execute_result"
    }
   ],
   "source": [
    "name_score"
   ]
  },
  {
   "cell_type": "code",
   "execution_count": 91,
   "metadata": {},
   "outputs": [],
   "source": [
    "def second_lowest(nl):\n",
    "    name = [i[0] for i in nl]\n",
    "    score = [i[1] for i in nl]\n",
    "    new = sorted(set(score))\n",
    "    second_low = new[1]\n",
    "    second_low_names = [i[0] for i in nl if i[1] == second_low]\n",
    "    second_low_names.sort()\n",
    "    return second_low_names"
   ]
  },
  {
   "cell_type": "code",
   "execution_count": 93,
   "metadata": {},
   "outputs": [
    {
     "name": "stdout",
     "output_type": "stream",
     "text": [
      "Anurima\n"
     ]
    }
   ],
   "source": [
    "for name in second_lowest(name_score):\n",
    "    print(name)"
   ]
  },
  {
   "cell_type": "markdown",
   "metadata": {},
   "source": [
    "### Question 3"
   ]
  },
  {
   "cell_type": "code",
   "execution_count": 95,
   "metadata": {},
   "outputs": [
    {
     "name": "stdout",
     "output_type": "stream",
     "text": [
      "2\n",
      "anurima 25 24 34\n",
      "Ovi 23 34 54\n",
      "Ovi\n"
     ]
    }
   ],
   "source": [
    "if __name__ == '__main__':\n",
    "    n = int(input())\n",
    "    student_marks = {}\n",
    "    for _ in range(n):\n",
    "        name, *line = input().split()\n",
    "        scores = list(map(float, line))\n",
    "        student_marks[name] = scores\n",
    "    query_name = input()"
   ]
  },
  {
   "cell_type": "code",
   "execution_count": 105,
   "metadata": {},
   "outputs": [],
   "source": [
    "def query(dct, name):\n",
    "        if name in dct.keys():\n",
    "            return sum(dct[name])/len(dct[name])"
   ]
  },
  {
   "cell_type": "code",
   "execution_count": 108,
   "metadata": {},
   "outputs": [
    {
     "name": "stdout",
     "output_type": "stream",
     "text": [
      "37.00\n"
     ]
    }
   ],
   "source": [
    "print(f'{query(student_marks, query_name):.2f}')"
   ]
  }
 ],
 "metadata": {
  "kernelspec": {
   "display_name": "Python 3",
   "language": "python",
   "name": "python3"
  },
  "language_info": {
   "codemirror_mode": {
    "name": "ipython",
    "version": 3
   },
   "file_extension": ".py",
   "mimetype": "text/x-python",
   "name": "python",
   "nbconvert_exporter": "python",
   "pygments_lexer": "ipython3",
   "version": "3.7.4"
  }
 },
 "nbformat": 4,
 "nbformat_minor": 2
}
