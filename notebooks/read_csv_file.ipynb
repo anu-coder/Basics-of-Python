{
 "cells": [
  {
   "cell_type": "code",
   "execution_count": 4,
   "metadata": {},
   "outputs": [],
   "source": [
    "import csv"
   ]
  },
  {
   "cell_type": "code",
   "execution_count": 5,
   "metadata": {},
   "outputs": [],
   "source": [
    "def read_csv_file(path):\n",
    "    with open(path, 'r') as csv_file:\n",
    "        csv_reader = csv.reader(csv_file)\n",
    "        colnames = next(csv_reader)\n",
    "        content = []\n",
    "        for lines in csv_reader:\n",
    "            content.append(lines)\n",
    "    return colnames, content"
   ]
  },
  {
   "cell_type": "code",
   "execution_count": 16,
   "metadata": {},
   "outputs": [],
   "source": [
    "path = '..\\data\\Favorite TV Shows - Form Responses 1.csv'"
   ]
  },
  {
   "cell_type": "code",
   "execution_count": 17,
   "metadata": {},
   "outputs": [],
   "source": [
    "colnames = read_csv_file(path)[0] \n",
    "content = read_csv_file(path)[1]"
   ]
  },
  {
   "cell_type": "code",
   "execution_count": 22,
   "metadata": {},
   "outputs": [
    {
     "name": "stdout",
     "output_type": "stream",
     "text": [
      "Drama, Family\n",
      "Comedy\n",
      "Action, Crime, Drama\n",
      "Action\n",
      "Comedy\n"
     ]
    }
   ],
   "source": [
    "for i in content[0:5]:\n",
    "    print(i[2])"
   ]
  },
  {
   "cell_type": "code",
   "execution_count": 23,
   "metadata": {},
   "outputs": [],
   "source": [
    "import csv"
   ]
  },
  {
   "cell_type": "code",
   "execution_count": 24,
   "metadata": {},
   "outputs": [],
   "source": [
    "def read_csv_file(path):\n",
    "    with open(path, mode='r') as csv_file:\n",
    "        csv_reader = csv.reader(csv_file)\n",
    "        colnames = next(csv_reader)\n",
    "        content = []\n",
    "        for lines in csv_reader:\n",
    "            content.append(lines)\n",
    "    return colnames, content"
   ]
  },
  {
   "cell_type": "code",
   "execution_count": 30,
   "metadata": {},
   "outputs": [],
   "source": [
    "def display_columns(col_choice, max_rows, content):\n",
    "    for lines in content[0:max_rows]:\n",
    "        print(lines[int(col_choice-1)])"
   ]
  },
  {
   "cell_type": "code",
   "execution_count": 32,
   "metadata": {},
   "outputs": [
    {
     "name": "stdout",
     "output_type": "stream",
     "text": [
      "The headers of the file are: \n",
      "1. Timestamp\n",
      "2. title\n",
      "3. genres\n",
      "Choose a header: 1\n",
      "Max rows to display: 2\n",
      "10/28/2019 15:03:45\n",
      "10/28/2019 15:04:48\n",
      "None\n"
     ]
    }
   ],
   "source": [
    "path = '..\\data\\Favorite TV Shows - Form Responses 1.csv'\n",
    "colnames = read_csv_file(path)[0]\n",
    "content = read_csv_file(path)[1]\n",
    "print('The headers of the file are: ')\n",
    "for i, col in enumerate(colnames):\n",
    "    print(f'{i+1}. {col}')\n",
    "col_choice = int(input(\"Choose a header: \"))\n",
    "max_rows = int(input(\"Max rows to display: \"))\n",
    "print(display_columns(col_choice, max_rows, content))"
   ]
  },
  {
   "cell_type": "code",
   "execution_count": null,
   "metadata": {},
   "outputs": [],
   "source": []
  }
 ],
 "metadata": {
  "kernelspec": {
   "display_name": "Python 3",
   "language": "python",
   "name": "python3"
  },
  "language_info": {
   "codemirror_mode": {
    "name": "ipython",
    "version": 3
   },
   "file_extension": ".py",
   "mimetype": "text/x-python",
   "name": "python",
   "nbconvert_exporter": "python",
   "pygments_lexer": "ipython3",
   "version": "3.8.5"
  }
 },
 "nbformat": 4,
 "nbformat_minor": 4
}
