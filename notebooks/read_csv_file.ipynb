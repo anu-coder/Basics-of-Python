{
 "cells": [
  {
   "cell_type": "markdown",
   "metadata": {},
   "source": [
    "## 1. read_csv_file.py"
   ]
  },
  {
   "cell_type": "code",
   "execution_count": 4,
   "metadata": {},
   "outputs": [],
   "source": [
    "import csv"
   ]
  },
  {
   "cell_type": "code",
   "execution_count": 24,
   "metadata": {},
   "outputs": [],
   "source": [
    "def read_csv_file(path):\n",
    "    with open(path, mode='r') as csv_file:\n",
    "        csv_reader = csv.reader(csv_file)\n",
    "        colnames = next(csv_reader)\n",
    "        content = []\n",
    "        for lines in csv_reader:\n",
    "            content.append(lines)\n",
    "    return colnames, content"
   ]
  },
  {
   "cell_type": "code",
   "execution_count": 30,
   "metadata": {},
   "outputs": [],
   "source": [
    "def display_columns(col_choice, max_rows, content):\n",
    "    for lines in content[0:max_rows]:\n",
    "        print(lines[int(col_choice-1)])"
   ]
  },
  {
   "cell_type": "code",
   "execution_count": 37,
   "metadata": {},
   "outputs": [
    {
     "name": "stdout",
     "output_type": "stream",
     "text": [
      "The headers of the file are: \n",
      "1. Timestamp\n",
      "2. title\n",
      "3. genres\n",
      "Choose a header: 2\n",
      "Max rows to display: 3\n",
      "\n",
      "\n",
      "title\n",
      "----------\n",
      "Dynasty\n",
      "The Office\n",
      "Blindspot\n"
     ]
    }
   ],
   "source": [
    "path = '..\\data\\Favorite TV Shows - Form Responses 1.csv'\n",
    "colnames = read_csv_file(path)[0]\n",
    "content = read_csv_file(path)[1]\n",
    "print('The headers of the file are: ')\n",
    "for i, col in enumerate(colnames):\n",
    "    print(f'{i+1}. {col}')\n",
    "col_choice = int(input(\"Choose a header: \"))\n",
    "max_rows = int(input(\"Max rows to display: \"))\n",
    "print('\\n')\n",
    "print(colnames[col_choice-1])\n",
    "print('----------')\n",
    "display_columns(col_choice, max_rows, content)"
   ]
  },
  {
   "cell_type": "markdown",
   "metadata": {},
   "source": [
    "## 2. context_manager.py"
   ]
  },
  {
   "cell_type": "code",
   "execution_count": 27,
   "metadata": {},
   "outputs": [],
   "source": [
    "import csv"
   ]
  },
  {
   "cell_type": "code",
   "execution_count": 28,
   "metadata": {},
   "outputs": [],
   "source": [
    "with open('../data/people.csv', 'r') as csv_file:\n",
    "    csv_reader = csv.reader(csv_file)\n",
    "    count = 0\n",
    "    content = []\n",
    "    for lines in csv_reader:\n",
    "        if count == 0:\n",
    "            header = lines\n",
    "            count +=1\n",
    "        else:\n",
    "            content.append(lines)\n",
    "            count+=1"
   ]
  },
  {
   "cell_type": "code",
   "execution_count": 43,
   "metadata": {},
   "outputs": [
    {
     "name": "stdout",
     "output_type": "stream",
     "text": [
      "Number of rows: 501\n",
      "\n",
      "The headers are:\n",
      "id\n",
      "first_name\n",
      "last_name\n",
      "email\n",
      "gender\n",
      "ip_address\n",
      "\n",
      "First five rows: \n",
      "['1', 'Petunia', 'Murdoch', 'pmurdoch0@cdc.gov', 'Bigender', '214.180.252.173']\n",
      "['2', 'Camala', 'Shoebrook', 'cshoebrook1@about.com', 'Agender', '109.11.115.223']\n",
      "['3', 'Brnaba', 'Crofts', 'bcrofts2@desdev.cn', 'Agender', '229.46.82.225']\n",
      "['4', 'Quintilla', 'Prazer', 'qprazer3@unicef.org', 'Polygender', '194.64.101.75']\n",
      "['5', 'Cairistiona', 'Hamm', 'chamm4@nymag.com', 'Polygender', '80.56.64.74']\n"
     ]
    }
   ],
   "source": [
    "if __name__=='__main__':\n",
    "    print(f'Number of rows: {count}')\n",
    "    print()\n",
    "    print(\"The headers are:\")\n",
    "    print('\\n'.join(header))\n",
    "    print()\n",
    "    print(\"First five rows: \")\n",
    "    [print(content[i]) for i in range(5)]"
   ]
  },
  {
   "cell_type": "code",
   "execution_count": 15,
   "metadata": {},
   "outputs": [
    {
     "name": "stdout",
     "output_type": "stream",
     "text": [
      "['1', 'Petunia', 'Murdoch', 'pmurdoch0@cdc.gov', 'Bigender', '214.180.252.173']\n",
      "['2', 'Camala', 'Shoebrook', 'cshoebrook1@about.com', 'Agender', '109.11.115.223']\n",
      "['3', 'Brnaba', 'Crofts', 'bcrofts2@desdev.cn', 'Agender', '229.46.82.225']\n",
      "['4', 'Quintilla', 'Prazer', 'qprazer3@unicef.org', 'Polygender', '194.64.101.75']\n",
      "['5', 'Cairistiona', 'Hamm', 'chamm4@nymag.com', 'Polygender', '80.56.64.74']\n"
     ]
    },
    {
     "data": {
      "text/plain": [
       "[None, None, None, None, None]"
      ]
     },
     "execution_count": 15,
     "metadata": {},
     "output_type": "execute_result"
    }
   ],
   "source": [
    "[print(content[i]) for i in range(5)]"
   ]
  },
  {
   "cell_type": "code",
   "execution_count": 41,
   "metadata": {},
   "outputs": [],
   "source": [
    "a =csv_file.close"
   ]
  },
  {
   "cell_type": "code",
   "execution_count": 42,
   "metadata": {},
   "outputs": [
    {
     "data": {
      "text/plain": [
       "<function TextIOWrapper.close()>"
      ]
     },
     "execution_count": 42,
     "metadata": {},
     "output_type": "execute_result"
    }
   ],
   "source": [
    "a"
   ]
  },
  {
   "cell_type": "code",
   "execution_count": null,
   "metadata": {},
   "outputs": [],
   "source": []
  },
  {
   "cell_type": "code",
   "execution_count": null,
   "metadata": {},
   "outputs": [],
   "source": []
  }
 ],
 "metadata": {
  "kernelspec": {
   "display_name": "Python 3",
   "language": "python",
   "name": "python3"
  },
  "language_info": {
   "codemirror_mode": {
    "name": "ipython",
    "version": 3
   },
   "file_extension": ".py",
   "mimetype": "text/x-python",
   "name": "python",
   "nbconvert_exporter": "python",
   "pygments_lexer": "ipython3",
   "version": "3.7.4"
  }
 },
 "nbformat": 4,
 "nbformat_minor": 4
}
