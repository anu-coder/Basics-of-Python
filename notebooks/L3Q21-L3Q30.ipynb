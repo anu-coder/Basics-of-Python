{
 "cells": [
  {
   "cell_type": "code",
   "execution_count": 1,
   "metadata": {},
   "outputs": [],
   "source": [
    "count_dict = {'New': 1, 'to': 1, 'Python': 5, 'or': 2, 'choosing': 1, 'between': 1, \n",
    "'2': 2, 'and': 1, '3?': 1, 'Read': 1, '3.': 1}"
   ]
  },
  {
   "cell_type": "code",
   "execution_count": 14,
   "metadata": {},
   "outputs": [],
   "source": [
    "count_dict = dict(sorted(count_dict.items(), key = lambda x:x[0]))"
   ]
  },
  {
   "cell_type": "code",
   "execution_count": 15,
   "metadata": {},
   "outputs": [
    {
     "data": {
      "text/plain": [
       "{'2': 2,\n",
       " '3.': 1,\n",
       " '3?': 1,\n",
       " 'New': 1,\n",
       " 'Python': 5,\n",
       " 'Read': 1,\n",
       " 'and': 1,\n",
       " 'between': 1,\n",
       " 'choosing': 1,\n",
       " 'or': 2,\n",
       " 'to': 1}"
      ]
     },
     "execution_count": 15,
     "metadata": {},
     "output_type": "execute_result"
    }
   ],
   "source": [
    "count_dict"
   ]
  },
  {
   "cell_type": "code",
   "execution_count": 12,
   "metadata": {},
   "outputs": [
    {
     "data": {
      "text/plain": [
       "{'2': 2,\n",
       " '3.': 1,\n",
       " '3?': 1,\n",
       " 'New': 1,\n",
       " 'Python': 5,\n",
       " 'Read': 1,\n",
       " 'and': 1,\n",
       " 'between': 1,\n",
       " 'choosing': 1,\n",
       " 'or': 2,\n",
       " 'to': 1}"
      ]
     },
     "execution_count": 12,
     "metadata": {},
     "output_type": "execute_result"
    }
   ],
   "source": [
    "dict(sorted(count_dict.items(), key = lambda x:x[0]))"
   ]
  },
  {
   "cell_type": "code",
   "execution_count": null,
   "metadata": {},
   "outputs": [],
   "source": []
  }
 ],
 "metadata": {
  "kernelspec": {
   "display_name": "Python 3",
   "language": "python",
   "name": "python3"
  },
  "language_info": {
   "codemirror_mode": {
    "name": "ipython",
    "version": 3
   },
   "file_extension": ".py",
   "mimetype": "text/x-python",
   "name": "python",
   "nbconvert_exporter": "python",
   "pygments_lexer": "ipython3",
   "version": "3.7.4"
  }
 },
 "nbformat": 4,
 "nbformat_minor": 2
}
